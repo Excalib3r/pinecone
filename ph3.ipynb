{
  "nbformat": 4,
  "nbformat_minor": 0,
  "metadata": {
    "colab": {
      "provenance": [],
      "authorship_tag": "ABX9TyPPnCkEEYFtxoH/V0I8KoPS",
      "include_colab_link": true
    },
    "kernelspec": {
      "name": "python3",
      "display_name": "Python 3"
    },
    "language_info": {
      "name": "python"
    }
  },
  "cells": [
    {
      "cell_type": "markdown",
      "metadata": {
        "id": "view-in-github",
        "colab_type": "text"
      },
      "source": [
        "<a href=\"https://colab.research.google.com/github/Excalib3r/pinecone/blob/main/ph3.ipynb\" target=\"_parent\"><img src=\"https://colab.research.google.com/assets/colab-badge.svg\" alt=\"Open In Colab\"/></a>"
      ]
    },
    {
      "cell_type": "code",
      "source": [
        "pip install langchain"
      ],
      "metadata": {
        "id": "MTWYgPXNHfs4",
        "colab": {
          "base_uri": "https://localhost:8080/"
        },
        "outputId": "d311efc8-857f-45dd-cbe1-de6b9d4aadf7"
      },
      "execution_count": null,
      "outputs": [
        {
          "output_type": "stream",
          "name": "stdout",
          "text": [
            "Looking in indexes: https://pypi.org/simple, https://us-python.pkg.dev/colab-wheels/public/simple/\n",
            "Collecting langchain\n",
            "  Downloading langchain-0.0.211-py3-none-any.whl (1.1 MB)\n",
            "\u001b[2K     \u001b[90m━━━━━━━━━━━━━━━━━━━━━━━━━━━━━━━━━━━━━━━━\u001b[0m \u001b[32m1.1/1.1 MB\u001b[0m \u001b[31m28.9 MB/s\u001b[0m eta \u001b[36m0:00:00\u001b[0m\n",
            "\u001b[?25hRequirement already satisfied: PyYAML>=5.4.1 in /usr/local/lib/python3.10/dist-packages (from langchain) (6.0)\n",
            "Requirement already satisfied: SQLAlchemy<3,>=1.4 in /usr/local/lib/python3.10/dist-packages (from langchain) (2.0.16)\n",
            "Collecting aiohttp<4.0.0,>=3.8.3 (from langchain)\n",
            "  Downloading aiohttp-3.8.4-cp310-cp310-manylinux_2_17_x86_64.manylinux2014_x86_64.whl (1.0 MB)\n",
            "\u001b[2K     \u001b[90m━━━━━━━━━━━━━━━━━━━━━━━━━━━━━━━━━━━━━━━━\u001b[0m \u001b[32m1.0/1.0 MB\u001b[0m \u001b[31m61.9 MB/s\u001b[0m eta \u001b[36m0:00:00\u001b[0m\n",
            "\u001b[?25hCollecting async-timeout<5.0.0,>=4.0.0 (from langchain)\n",
            "  Downloading async_timeout-4.0.2-py3-none-any.whl (5.8 kB)\n",
            "Collecting dataclasses-json<0.6.0,>=0.5.7 (from langchain)\n",
            "  Downloading dataclasses_json-0.5.8-py3-none-any.whl (26 kB)\n",
            "Collecting langchainplus-sdk>=0.0.17 (from langchain)\n",
            "  Downloading langchainplus_sdk-0.0.17-py3-none-any.whl (25 kB)\n",
            "Requirement already satisfied: numexpr<3.0.0,>=2.8.4 in /usr/local/lib/python3.10/dist-packages (from langchain) (2.8.4)\n",
            "Requirement already satisfied: numpy<2,>=1 in /usr/local/lib/python3.10/dist-packages (from langchain) (1.22.4)\n",
            "Collecting openapi-schema-pydantic<2.0,>=1.2 (from langchain)\n",
            "  Downloading openapi_schema_pydantic-1.2.4-py3-none-any.whl (90 kB)\n",
            "\u001b[2K     \u001b[90m━━━━━━━━━━━━━━━━━━━━━━━━━━━━━━━━━━━━━━━━\u001b[0m \u001b[32m90.0/90.0 kB\u001b[0m \u001b[31m11.9 MB/s\u001b[0m eta \u001b[36m0:00:00\u001b[0m\n",
            "\u001b[?25hRequirement already satisfied: pydantic<2,>=1 in /usr/local/lib/python3.10/dist-packages (from langchain) (1.10.9)\n",
            "Requirement already satisfied: requests<3,>=2 in /usr/local/lib/python3.10/dist-packages (from langchain) (2.27.1)\n",
            "Requirement already satisfied: tenacity<9.0.0,>=8.1.0 in /usr/local/lib/python3.10/dist-packages (from langchain) (8.2.2)\n",
            "Requirement already satisfied: attrs>=17.3.0 in /usr/local/lib/python3.10/dist-packages (from aiohttp<4.0.0,>=3.8.3->langchain) (23.1.0)\n",
            "Requirement already satisfied: charset-normalizer<4.0,>=2.0 in /usr/local/lib/python3.10/dist-packages (from aiohttp<4.0.0,>=3.8.3->langchain) (2.0.12)\n",
            "Collecting multidict<7.0,>=4.5 (from aiohttp<4.0.0,>=3.8.3->langchain)\n",
            "  Downloading multidict-6.0.4-cp310-cp310-manylinux_2_17_x86_64.manylinux2014_x86_64.whl (114 kB)\n",
            "\u001b[2K     \u001b[90m━━━━━━━━━━━━━━━━━━━━━━━━━━━━━━━━━━━━━━\u001b[0m \u001b[32m114.5/114.5 kB\u001b[0m \u001b[31m12.7 MB/s\u001b[0m eta \u001b[36m0:00:00\u001b[0m\n",
            "\u001b[?25hCollecting yarl<2.0,>=1.0 (from aiohttp<4.0.0,>=3.8.3->langchain)\n",
            "  Downloading yarl-1.9.2-cp310-cp310-manylinux_2_17_x86_64.manylinux2014_x86_64.whl (268 kB)\n",
            "\u001b[2K     \u001b[90m━━━━━━━━━━━━━━━━━━━━━━━━━━━━━━━━━━━━━━\u001b[0m \u001b[32m268.8/268.8 kB\u001b[0m \u001b[31m27.6 MB/s\u001b[0m eta \u001b[36m0:00:00\u001b[0m\n",
            "\u001b[?25hCollecting frozenlist>=1.1.1 (from aiohttp<4.0.0,>=3.8.3->langchain)\n",
            "  Downloading frozenlist-1.3.3-cp310-cp310-manylinux_2_5_x86_64.manylinux1_x86_64.manylinux_2_17_x86_64.manylinux2014_x86_64.whl (149 kB)\n",
            "\u001b[2K     \u001b[90m━━━━━━━━━━━━━━━━━━━━━━━━━━━━━━━━━━━━━━\u001b[0m \u001b[32m149.6/149.6 kB\u001b[0m \u001b[31m17.7 MB/s\u001b[0m eta \u001b[36m0:00:00\u001b[0m\n",
            "\u001b[?25hCollecting aiosignal>=1.1.2 (from aiohttp<4.0.0,>=3.8.3->langchain)\n",
            "  Downloading aiosignal-1.3.1-py3-none-any.whl (7.6 kB)\n",
            "Collecting marshmallow<4.0.0,>=3.3.0 (from dataclasses-json<0.6.0,>=0.5.7->langchain)\n",
            "  Downloading marshmallow-3.19.0-py3-none-any.whl (49 kB)\n",
            "\u001b[2K     \u001b[90m━━━━━━━━━━━━━━━━━━━━━━━━━━━━━━━━━━━━━━━━\u001b[0m \u001b[32m49.1/49.1 kB\u001b[0m \u001b[31m5.8 MB/s\u001b[0m eta \u001b[36m0:00:00\u001b[0m\n",
            "\u001b[?25hCollecting marshmallow-enum<2.0.0,>=1.5.1 (from dataclasses-json<0.6.0,>=0.5.7->langchain)\n",
            "  Downloading marshmallow_enum-1.5.1-py2.py3-none-any.whl (4.2 kB)\n",
            "Collecting typing-inspect>=0.4.0 (from dataclasses-json<0.6.0,>=0.5.7->langchain)\n",
            "  Downloading typing_inspect-0.9.0-py3-none-any.whl (8.8 kB)\n",
            "Requirement already satisfied: typing-extensions>=4.2.0 in /usr/local/lib/python3.10/dist-packages (from pydantic<2,>=1->langchain) (4.6.3)\n",
            "Requirement already satisfied: urllib3<1.27,>=1.21.1 in /usr/local/lib/python3.10/dist-packages (from requests<3,>=2->langchain) (1.26.16)\n",
            "Requirement already satisfied: certifi>=2017.4.17 in /usr/local/lib/python3.10/dist-packages (from requests<3,>=2->langchain) (2023.5.7)\n",
            "Requirement already satisfied: idna<4,>=2.5 in /usr/local/lib/python3.10/dist-packages (from requests<3,>=2->langchain) (3.4)\n",
            "Requirement already satisfied: greenlet!=0.4.17 in /usr/local/lib/python3.10/dist-packages (from SQLAlchemy<3,>=1.4->langchain) (2.0.2)\n",
            "Requirement already satisfied: packaging>=17.0 in /usr/local/lib/python3.10/dist-packages (from marshmallow<4.0.0,>=3.3.0->dataclasses-json<0.6.0,>=0.5.7->langchain) (23.1)\n",
            "Collecting mypy-extensions>=0.3.0 (from typing-inspect>=0.4.0->dataclasses-json<0.6.0,>=0.5.7->langchain)\n",
            "  Downloading mypy_extensions-1.0.0-py3-none-any.whl (4.7 kB)\n",
            "Installing collected packages: mypy-extensions, multidict, marshmallow, frozenlist, async-timeout, yarl, typing-inspect, openapi-schema-pydantic, marshmallow-enum, langchainplus-sdk, aiosignal, dataclasses-json, aiohttp, langchain\n",
            "Successfully installed aiohttp-3.8.4 aiosignal-1.3.1 async-timeout-4.0.2 dataclasses-json-0.5.8 frozenlist-1.3.3 langchain-0.0.211 langchainplus-sdk-0.0.17 marshmallow-3.19.0 marshmallow-enum-1.5.1 multidict-6.0.4 mypy-extensions-1.0.0 openapi-schema-pydantic-1.2.4 typing-inspect-0.9.0 yarl-1.9.2\n"
          ]
        }
      ]
    },
    {
      "cell_type": "code",
      "source": [
        "pip install pinecone-client"
      ],
      "metadata": {
        "id": "mvowOs_HIGxr",
        "colab": {
          "base_uri": "https://localhost:8080/"
        },
        "outputId": "7d49d872-4200-466d-8edd-75aae6ce8c98"
      },
      "execution_count": null,
      "outputs": [
        {
          "output_type": "stream",
          "name": "stdout",
          "text": [
            "Looking in indexes: https://pypi.org/simple, https://us-python.pkg.dev/colab-wheels/public/simple/\n",
            "Collecting pinecone-client\n",
            "  Downloading pinecone_client-2.2.2-py3-none-any.whl (179 kB)\n",
            "\u001b[2K     \u001b[90m━━━━━━━━━━━━━━━━━━━━━━━━━━━━━━━━━━━━━━━\u001b[0m \u001b[32m179.1/179.1 kB\u001b[0m \u001b[31m6.9 MB/s\u001b[0m eta \u001b[36m0:00:00\u001b[0m\n",
            "\u001b[?25hRequirement already satisfied: requests>=2.19.0 in /usr/local/lib/python3.10/dist-packages (from pinecone-client) (2.27.1)\n",
            "Requirement already satisfied: pyyaml>=5.4 in /usr/local/lib/python3.10/dist-packages (from pinecone-client) (6.0)\n",
            "Collecting loguru>=0.5.0 (from pinecone-client)\n",
            "  Downloading loguru-0.7.0-py3-none-any.whl (59 kB)\n",
            "\u001b[2K     \u001b[90m━━━━━━━━━━━━━━━━━━━━━━━━━━━━━━━━━━━━━━━━\u001b[0m \u001b[32m60.0/60.0 kB\u001b[0m \u001b[31m6.9 MB/s\u001b[0m eta \u001b[36m0:00:00\u001b[0m\n",
            "\u001b[?25hRequirement already satisfied: typing-extensions>=3.7.4 in /usr/local/lib/python3.10/dist-packages (from pinecone-client) (4.6.3)\n",
            "Collecting dnspython>=2.0.0 (from pinecone-client)\n",
            "  Downloading dnspython-2.3.0-py3-none-any.whl (283 kB)\n",
            "\u001b[2K     \u001b[90m━━━━━━━━━━━━━━━━━━━━━━━━━━━━━━━━━━━━━━\u001b[0m \u001b[32m283.7/283.7 kB\u001b[0m \u001b[31m15.3 MB/s\u001b[0m eta \u001b[36m0:00:00\u001b[0m\n",
            "\u001b[?25hRequirement already satisfied: python-dateutil>=2.5.3 in /usr/local/lib/python3.10/dist-packages (from pinecone-client) (2.8.2)\n",
            "Requirement already satisfied: urllib3>=1.21.1 in /usr/local/lib/python3.10/dist-packages (from pinecone-client) (1.26.16)\n",
            "Requirement already satisfied: tqdm>=4.64.1 in /usr/local/lib/python3.10/dist-packages (from pinecone-client) (4.65.0)\n",
            "Requirement already satisfied: numpy>=1.22.0 in /usr/local/lib/python3.10/dist-packages (from pinecone-client) (1.22.4)\n",
            "Requirement already satisfied: six>=1.5 in /usr/local/lib/python3.10/dist-packages (from python-dateutil>=2.5.3->pinecone-client) (1.16.0)\n",
            "Requirement already satisfied: certifi>=2017.4.17 in /usr/local/lib/python3.10/dist-packages (from requests>=2.19.0->pinecone-client) (2023.5.7)\n",
            "Requirement already satisfied: charset-normalizer~=2.0.0 in /usr/local/lib/python3.10/dist-packages (from requests>=2.19.0->pinecone-client) (2.0.12)\n",
            "Requirement already satisfied: idna<4,>=2.5 in /usr/local/lib/python3.10/dist-packages (from requests>=2.19.0->pinecone-client) (3.4)\n",
            "Installing collected packages: loguru, dnspython, pinecone-client\n",
            "Successfully installed dnspython-2.3.0 loguru-0.7.0 pinecone-client-2.2.2\n"
          ]
        }
      ]
    },
    {
      "cell_type": "code",
      "source": [
        "pip install os"
      ],
      "metadata": {
        "id": "YUkC0K62ILQ1",
        "colab": {
          "base_uri": "https://localhost:8080/"
        },
        "outputId": "2e7ddf40-0e0b-486a-b922-f6dbeb38508f"
      },
      "execution_count": null,
      "outputs": [
        {
          "output_type": "stream",
          "name": "stdout",
          "text": [
            "Looking in indexes: https://pypi.org/simple, https://us-python.pkg.dev/colab-wheels/public/simple/\n",
            "\u001b[31mERROR: Could not find a version that satisfies the requirement os (from versions: none)\u001b[0m\u001b[31m\n",
            "\u001b[0m\u001b[31mERROR: No matching distribution found for os\u001b[0m\u001b[31m\n",
            "\u001b[0m"
          ]
        }
      ]
    },
    {
      "cell_type": "code",
      "execution_count": null,
      "metadata": {
        "id": "55l7hCWp_2YX",
        "colab": {
          "base_uri": "https://localhost:8080/"
        },
        "outputId": "b9392134-1dfc-45e2-b8df-4e4de1733035"
      },
      "outputs": [
        {
          "output_type": "stream",
          "name": "stderr",
          "text": [
            "/usr/local/lib/python3.10/dist-packages/pinecone/index.py:4: TqdmExperimentalWarning: Using `tqdm.autonotebook.tqdm` in notebook mode. Use `tqdm.tqdm` instead to force console mode (e.g. in jupyter console)\n",
            "  from tqdm.autonotebook import tqdm\n"
          ]
        }
      ],
      "source": [
        "# Make the display a bit wider\n",
        "# from IPython.display import display, HTML\n",
        "# display(HTML(\"<style>.container { width:90% !important; }</style>\"))\n",
        "\n",
        "# LangChain basics\n",
        "from langchain.chat_models import ChatOpenAI\n",
        "from langchain.text_splitter import RecursiveCharacterTextSplitter\n",
        "from langchain.chains.summarize import load_summarize_chain\n",
        "from langchain.chains import create_extraction_chain\n",
        "\n",
        "# Vector Store and retrievals\n",
        "from langchain.embeddings.openai import OpenAIEmbeddings\n",
        "from langchain.chains import RetrievalQA\n",
        "from langchain.vectorstores import Pinecone\n",
        "import pinecone\n",
        "\n",
        "# Chat Prompt templates for dynamic values\n",
        "from langchain.prompts.chat import (\n",
        "    ChatPromptTemplate,\n",
        "    SystemMessagePromptTemplate,\n",
        "    HumanMessagePromptTemplate\n",
        ")\n",
        "\n",
        "# # Supporting libraries\n",
        "# import os\n",
        "# from dotenv import load_dotenv\n",
        "\n",
        "# load_dotenv()"
      ]
    },
    {
      "cell_type": "code",
      "source": [
        "pip install openai"
      ],
      "metadata": {
        "id": "4A69SeiuM-Xr",
        "colab": {
          "base_uri": "https://localhost:8080/"
        },
        "outputId": "6e90cf67-948b-466e-d3f1-2f2c71c8b8ea"
      },
      "execution_count": null,
      "outputs": [
        {
          "output_type": "stream",
          "name": "stdout",
          "text": [
            "Looking in indexes: https://pypi.org/simple, https://us-python.pkg.dev/colab-wheels/public/simple/\n",
            "Collecting openai\n",
            "  Downloading openai-0.27.8-py3-none-any.whl (73 kB)\n",
            "\u001b[2K     \u001b[90m━━━━━━━━━━━━━━━━━━━━━━━━━━━━━━━━━━━━━━━━\u001b[0m \u001b[32m73.6/73.6 kB\u001b[0m \u001b[31m3.1 MB/s\u001b[0m eta \u001b[36m0:00:00\u001b[0m\n",
            "\u001b[?25hRequirement already satisfied: requests>=2.20 in /usr/local/lib/python3.10/dist-packages (from openai) (2.27.1)\n",
            "Requirement already satisfied: tqdm in /usr/local/lib/python3.10/dist-packages (from openai) (4.65.0)\n",
            "Requirement already satisfied: aiohttp in /usr/local/lib/python3.10/dist-packages (from openai) (3.8.4)\n",
            "Requirement already satisfied: urllib3<1.27,>=1.21.1 in /usr/local/lib/python3.10/dist-packages (from requests>=2.20->openai) (1.26.16)\n",
            "Requirement already satisfied: certifi>=2017.4.17 in /usr/local/lib/python3.10/dist-packages (from requests>=2.20->openai) (2023.5.7)\n",
            "Requirement already satisfied: charset-normalizer~=2.0.0 in /usr/local/lib/python3.10/dist-packages (from requests>=2.20->openai) (2.0.12)\n",
            "Requirement already satisfied: idna<4,>=2.5 in /usr/local/lib/python3.10/dist-packages (from requests>=2.20->openai) (3.4)\n",
            "Requirement already satisfied: attrs>=17.3.0 in /usr/local/lib/python3.10/dist-packages (from aiohttp->openai) (23.1.0)\n",
            "Requirement already satisfied: multidict<7.0,>=4.5 in /usr/local/lib/python3.10/dist-packages (from aiohttp->openai) (6.0.4)\n",
            "Requirement already satisfied: async-timeout<5.0,>=4.0.0a3 in /usr/local/lib/python3.10/dist-packages (from aiohttp->openai) (4.0.2)\n",
            "Requirement already satisfied: yarl<2.0,>=1.0 in /usr/local/lib/python3.10/dist-packages (from aiohttp->openai) (1.9.2)\n",
            "Requirement already satisfied: frozenlist>=1.1.1 in /usr/local/lib/python3.10/dist-packages (from aiohttp->openai) (1.3.3)\n",
            "Requirement already satisfied: aiosignal>=1.1.2 in /usr/local/lib/python3.10/dist-packages (from aiohttp->openai) (1.3.1)\n",
            "Installing collected packages: openai\n",
            "Successfully installed openai-0.27.8\n"
          ]
        }
      ]
    },
    {
      "cell_type": "code",
      "source": [
        "OPENAI_API_KEY = ''"
      ],
      "metadata": {
        "id": "2FiOTLQSJXDm"
      },
      "execution_count": null,
      "outputs": []
    },
    {
      "cell_type": "code",
      "source": [
        "# Creating two versions of the model so I can swap between gpt3.5 and gpt4\n",
        "llm3 = ChatOpenAI(temperature=0,\n",
        "                  openai_api_key=OPENAI_API_KEY,\n",
        "                  model_name=\"gpt-3.5-turbo-0613\",\n",
        "                  request_timeout = 180\n",
        "                )\n",
        "\n",
        "llm4 = ChatOpenAI(temperature=0,\n",
        "                  openai_api_key=OPENAI_API_KEY,\n",
        "                  model_name=\"gpt-4-0613\",\n",
        "                  request_timeout = 180\n",
        "                 )"
      ],
      "metadata": {
        "id": "OMmPAet7_8UP"
      },
      "execution_count": null,
      "outputs": []
    },
    {
      "cell_type": "code",
      "source": [
        "from langchain.document_loaders import UnstructuredPDFLoader"
      ],
      "metadata": {
        "id": "HcyVk9gOKFQ4"
      },
      "execution_count": null,
      "outputs": []
    },
    {
      "cell_type": "code",
      "source": [
        "!pip install unstructured"
      ],
      "metadata": {
        "id": "z3ytsOi_KFK5",
        "colab": {
          "base_uri": "https://localhost:8080/"
        },
        "outputId": "616a6fc7-22f1-4a3e-9a2b-ef646d59d96d"
      },
      "execution_count": null,
      "outputs": [
        {
          "output_type": "stream",
          "name": "stdout",
          "text": [
            "Looking in indexes: https://pypi.org/simple, https://us-python.pkg.dev/colab-wheels/public/simple/\n",
            "Collecting unstructured\n",
            "  Downloading unstructured-0.7.8-py3-none-any.whl (1.4 MB)\n",
            "\u001b[2K     \u001b[90m━━━━━━━━━━━━━━━━━━━━━━━━━━━━━━━━━━━━━━━━\u001b[0m \u001b[32m1.4/1.4 MB\u001b[0m \u001b[31m21.1 MB/s\u001b[0m eta \u001b[36m0:00:00\u001b[0m\n",
            "\u001b[?25hCollecting argilla (from unstructured)\n",
            "  Downloading argilla-1.11.0-py3-none-any.whl (2.5 MB)\n",
            "\u001b[2K     \u001b[90m━━━━━━━━━━━━━━━━━━━━━━━━━━━━━━━━━━━━━━━━\u001b[0m \u001b[32m2.5/2.5 MB\u001b[0m \u001b[31m24.4 MB/s\u001b[0m eta \u001b[36m0:00:00\u001b[0m\n",
            "\u001b[?25hRequirement already satisfied: chardet in /usr/local/lib/python3.10/dist-packages (from unstructured) (4.0.0)\n",
            "Collecting filetype (from unstructured)\n",
            "  Downloading filetype-1.2.0-py2.py3-none-any.whl (19 kB)\n",
            "Requirement already satisfied: lxml in /usr/local/lib/python3.10/dist-packages (from unstructured) (4.9.2)\n",
            "Collecting msg-parser (from unstructured)\n",
            "  Downloading msg_parser-1.2.0-py2.py3-none-any.whl (101 kB)\n",
            "\u001b[2K     \u001b[90m━━━━━━━━━━━━━━━━━━━━━━━━━━━━━━━━━━━━━━━\u001b[0m \u001b[32m101.8/101.8 kB\u001b[0m \u001b[31m7.6 MB/s\u001b[0m eta \u001b[36m0:00:00\u001b[0m\n",
            "\u001b[?25hRequirement already satisfied: nltk in /usr/local/lib/python3.10/dist-packages (from unstructured) (3.8.1)\n",
            "Requirement already satisfied: openpyxl in /usr/local/lib/python3.10/dist-packages (from unstructured) (3.0.10)\n",
            "Requirement already satisfied: pandas in /usr/local/lib/python3.10/dist-packages (from unstructured) (1.5.3)\n",
            "Collecting pdf2image (from unstructured)\n",
            "  Downloading pdf2image-1.16.3-py3-none-any.whl (11 kB)\n",
            "Collecting pdfminer.six (from unstructured)\n",
            "  Downloading pdfminer.six-20221105-py3-none-any.whl (5.6 MB)\n",
            "\u001b[2K     \u001b[90m━━━━━━━━━━━━━━━━━━━━━━━━━━━━━━━━━━━━━━━━\u001b[0m \u001b[32m5.6/5.6 MB\u001b[0m \u001b[31m47.3 MB/s\u001b[0m eta \u001b[36m0:00:00\u001b[0m\n",
            "\u001b[?25hRequirement already satisfied: pillow in /usr/local/lib/python3.10/dist-packages (from unstructured) (8.4.0)\n",
            "Collecting pypandoc (from unstructured)\n",
            "  Downloading pypandoc-1.11-py3-none-any.whl (20 kB)\n",
            "Collecting python-docx (from unstructured)\n",
            "  Downloading python-docx-0.8.11.tar.gz (5.6 MB)\n",
            "\u001b[2K     \u001b[90m━━━━━━━━━━━━━━━━━━━━━━━━━━━━━━━━━━━━━━━━\u001b[0m \u001b[32m5.6/5.6 MB\u001b[0m \u001b[31m58.4 MB/s\u001b[0m eta \u001b[36m0:00:00\u001b[0m\n",
            "\u001b[?25h  Preparing metadata (setup.py) ... \u001b[?25l\u001b[?25hdone\n",
            "Collecting python-pptx (from unstructured)\n",
            "  Downloading python-pptx-0.6.21.tar.gz (10.1 MB)\n",
            "\u001b[2K     \u001b[90m━━━━━━━━━━━━━━━━━━━━━━━━━━━━━━━━━━━━━━━━\u001b[0m \u001b[32m10.1/10.1 MB\u001b[0m \u001b[31m64.1 MB/s\u001b[0m eta \u001b[36m0:00:00\u001b[0m\n",
            "\u001b[?25h  Preparing metadata (setup.py) ... \u001b[?25l\u001b[?25hdone\n",
            "Collecting python-magic (from unstructured)\n",
            "  Downloading python_magic-0.4.27-py2.py3-none-any.whl (13 kB)\n",
            "Requirement already satisfied: markdown in /usr/local/lib/python3.10/dist-packages (from unstructured) (3.4.3)\n",
            "Requirement already satisfied: requests in /usr/local/lib/python3.10/dist-packages (from unstructured) (2.27.1)\n",
            "Requirement already satisfied: tabulate in /usr/local/lib/python3.10/dist-packages (from unstructured) (0.8.10)\n",
            "Requirement already satisfied: xlrd in /usr/local/lib/python3.10/dist-packages (from unstructured) (2.0.1)\n",
            "Collecting httpx<0.24,>=0.15 (from argilla->unstructured)\n",
            "  Downloading httpx-0.23.3-py3-none-any.whl (71 kB)\n",
            "\u001b[2K     \u001b[90m━━━━━━━━━━━━━━━━━━━━━━━━━━━━━━━━━━━━━━━\u001b[0m \u001b[32m71.5/71.5 kB\u001b[0m \u001b[31m476.7 kB/s\u001b[0m eta \u001b[36m0:00:00\u001b[0m\n",
            "\u001b[?25hCollecting deprecated~=1.2.0 (from argilla->unstructured)\n",
            "  Downloading Deprecated-1.2.14-py2.py3-none-any.whl (9.6 kB)\n",
            "Requirement already satisfied: packaging>=20.0 in /usr/local/lib/python3.10/dist-packages (from argilla->unstructured) (23.1)\n",
            "Requirement already satisfied: pydantic>=1.10.7 in /usr/local/lib/python3.10/dist-packages (from argilla->unstructured) (1.10.9)\n",
            "Requirement already satisfied: wrapt<1.15,>=1.13 in /usr/local/lib/python3.10/dist-packages (from argilla->unstructured) (1.14.1)\n",
            "Requirement already satisfied: numpy<1.24.0 in /usr/local/lib/python3.10/dist-packages (from argilla->unstructured) (1.22.4)\n",
            "Requirement already satisfied: tqdm>=4.27.0 in /usr/local/lib/python3.10/dist-packages (from argilla->unstructured) (4.65.0)\n",
            "Collecting backoff (from argilla->unstructured)\n",
            "  Downloading backoff-2.2.1-py3-none-any.whl (15 kB)\n",
            "Collecting monotonic (from argilla->unstructured)\n",
            "  Downloading monotonic-1.6-py2.py3-none-any.whl (8.2 kB)\n",
            "Collecting rich<=13.0.1 (from argilla->unstructured)\n",
            "  Downloading rich-13.0.1-py3-none-any.whl (238 kB)\n",
            "\u001b[2K     \u001b[90m━━━━━━━━━━━━━━━━━━━━━━━━━━━━━━━━━━━━━━\u001b[0m \u001b[32m238.1/238.1 kB\u001b[0m \u001b[31m26.6 MB/s\u001b[0m eta \u001b[36m0:00:00\u001b[0m\n",
            "\u001b[?25hRequirement already satisfied: typer<1.0.0,>=0.6.0 in /usr/local/lib/python3.10/dist-packages (from argilla->unstructured) (0.7.0)\n",
            "Requirement already satisfied: python-dateutil>=2.8.1 in /usr/local/lib/python3.10/dist-packages (from pandas->unstructured) (2.8.2)\n",
            "Requirement already satisfied: pytz>=2020.1 in /usr/local/lib/python3.10/dist-packages (from pandas->unstructured) (2022.7.1)\n",
            "Collecting olefile>=0.46 (from msg-parser->unstructured)\n",
            "  Downloading olefile-0.46.zip (112 kB)\n",
            "\u001b[2K     \u001b[90m━━━━━━━━━━━━━━━━━━━━━━━━━━━━━━━━━━━━━━\u001b[0m \u001b[32m112.2/112.2 kB\u001b[0m \u001b[31m14.1 MB/s\u001b[0m eta \u001b[36m0:00:00\u001b[0m\n",
            "\u001b[?25h  Preparing metadata (setup.py) ... \u001b[?25l\u001b[?25hdone\n",
            "Requirement already satisfied: click in /usr/local/lib/python3.10/dist-packages (from nltk->unstructured) (8.1.3)\n",
            "Requirement already satisfied: joblib in /usr/local/lib/python3.10/dist-packages (from nltk->unstructured) (1.2.0)\n",
            "Requirement already satisfied: regex>=2021.8.3 in /usr/local/lib/python3.10/dist-packages (from nltk->unstructured) (2022.10.31)\n",
            "Requirement already satisfied: et-xmlfile in /usr/local/lib/python3.10/dist-packages (from openpyxl->unstructured) (1.1.0)\n",
            "Requirement already satisfied: charset-normalizer>=2.0.0 in /usr/local/lib/python3.10/dist-packages (from pdfminer.six->unstructured) (2.0.12)\n",
            "Requirement already satisfied: cryptography>=36.0.0 in /usr/local/lib/python3.10/dist-packages (from pdfminer.six->unstructured) (41.0.1)\n",
            "Collecting XlsxWriter>=0.5.7 (from python-pptx->unstructured)\n",
            "  Downloading XlsxWriter-3.1.2-py3-none-any.whl (153 kB)\n",
            "\u001b[2K     \u001b[90m━━━━━━━━━━━━━━━━━━━━━━━━━━━━━━━━━━━━━━\u001b[0m \u001b[32m153.0/153.0 kB\u001b[0m \u001b[31m18.6 MB/s\u001b[0m eta \u001b[36m0:00:00\u001b[0m\n",
            "\u001b[?25hRequirement already satisfied: urllib3<1.27,>=1.21.1 in /usr/local/lib/python3.10/dist-packages (from requests->unstructured) (1.26.16)\n",
            "Requirement already satisfied: certifi>=2017.4.17 in /usr/local/lib/python3.10/dist-packages (from requests->unstructured) (2023.5.7)\n",
            "Requirement already satisfied: idna<4,>=2.5 in /usr/local/lib/python3.10/dist-packages (from requests->unstructured) (3.4)\n",
            "Requirement already satisfied: cffi>=1.12 in /usr/local/lib/python3.10/dist-packages (from cryptography>=36.0.0->pdfminer.six->unstructured) (1.15.1)\n",
            "Collecting httpcore<0.17.0,>=0.15.0 (from httpx<0.24,>=0.15->argilla->unstructured)\n",
            "  Downloading httpcore-0.16.3-py3-none-any.whl (69 kB)\n",
            "\u001b[2K     \u001b[90m━━━━━━━━━━━━━━━━━━━━━━━━━━━━━━━━━━━━━━━━\u001b[0m \u001b[32m69.6/69.6 kB\u001b[0m \u001b[31m6.7 MB/s\u001b[0m eta \u001b[36m0:00:00\u001b[0m\n",
            "\u001b[?25hCollecting rfc3986[idna2008]<2,>=1.3 (from httpx<0.24,>=0.15->argilla->unstructured)\n",
            "  Downloading rfc3986-1.5.0-py2.py3-none-any.whl (31 kB)\n",
            "Requirement already satisfied: sniffio in /usr/local/lib/python3.10/dist-packages (from httpx<0.24,>=0.15->argilla->unstructured) (1.3.0)\n",
            "Requirement already satisfied: typing-extensions>=4.2.0 in /usr/local/lib/python3.10/dist-packages (from pydantic>=1.10.7->argilla->unstructured) (4.6.3)\n",
            "Requirement already satisfied: six>=1.5 in /usr/local/lib/python3.10/dist-packages (from python-dateutil>=2.8.1->pandas->unstructured) (1.16.0)\n",
            "Collecting commonmark<0.10.0,>=0.9.0 (from rich<=13.0.1->argilla->unstructured)\n",
            "  Downloading commonmark-0.9.1-py2.py3-none-any.whl (51 kB)\n",
            "\u001b[2K     \u001b[90m━━━━━━━━━━━━━━━━━━━━━━━━━━━━━━━━━━━━━━━━\u001b[0m \u001b[32m51.1/51.1 kB\u001b[0m \u001b[31m6.7 MB/s\u001b[0m eta \u001b[36m0:00:00\u001b[0m\n",
            "\u001b[?25hRequirement already satisfied: pygments<3.0.0,>=2.6.0 in /usr/local/lib/python3.10/dist-packages (from rich<=13.0.1->argilla->unstructured) (2.14.0)\n",
            "Requirement already satisfied: pycparser in /usr/local/lib/python3.10/dist-packages (from cffi>=1.12->cryptography>=36.0.0->pdfminer.six->unstructured) (2.21)\n",
            "Collecting h11<0.15,>=0.13 (from httpcore<0.17.0,>=0.15.0->httpx<0.24,>=0.15->argilla->unstructured)\n",
            "  Downloading h11-0.14.0-py3-none-any.whl (58 kB)\n",
            "\u001b[2K     \u001b[90m━━━━━━━━━━━━━━━━━━━━━━━━━━━━━━━━━━━━━━━━\u001b[0m \u001b[32m58.3/58.3 kB\u001b[0m \u001b[31m7.2 MB/s\u001b[0m eta \u001b[36m0:00:00\u001b[0m\n",
            "\u001b[?25hRequirement already satisfied: anyio<5.0,>=3.0 in /usr/local/lib/python3.10/dist-packages (from httpcore<0.17.0,>=0.15.0->httpx<0.24,>=0.15->argilla->unstructured) (3.7.0)\n",
            "Requirement already satisfied: exceptiongroup in /usr/local/lib/python3.10/dist-packages (from anyio<5.0,>=3.0->httpcore<0.17.0,>=0.15.0->httpx<0.24,>=0.15->argilla->unstructured) (1.1.1)\n",
            "Building wheels for collected packages: python-docx, python-pptx, olefile\n",
            "  Building wheel for python-docx (setup.py) ... \u001b[?25l\u001b[?25hdone\n",
            "  Created wheel for python-docx: filename=python_docx-0.8.11-py3-none-any.whl size=184491 sha256=aaceb929652a4544bbfd7d24d9b86e8851fda379a508f933611dc20181c79d90\n",
            "  Stored in directory: /root/.cache/pip/wheels/80/27/06/837436d4c3bd989b957a91679966f207bfd71d358d63a8194d\n",
            "  Building wheel for python-pptx (setup.py) ... \u001b[?25l\u001b[?25hdone\n",
            "  Created wheel for python-pptx: filename=python_pptx-0.6.21-py3-none-any.whl size=470935 sha256=73f70f32a0645f78e583ee1e4b3bae1f095b2c92c59b7da0a7acab444a9eb6b9\n",
            "  Stored in directory: /root/.cache/pip/wheels/ea/dd/74/01b3ec7256a0800b99384e9a0f7620e358afc3a51a59bf9b49\n",
            "  Building wheel for olefile (setup.py) ... \u001b[?25l\u001b[?25hdone\n",
            "  Created wheel for olefile: filename=olefile-0.46-py2.py3-none-any.whl size=35417 sha256=31a7b533d6f21b8274c07b40f89ec79a14f195d24ee3ae34ccdd3834560c0a1c\n",
            "  Stored in directory: /root/.cache/pip/wheels/02/39/c0/9eb1f7a42b4b38f6f333b6314d4ed11c46f12a0f7b78194f0d\n",
            "Successfully built python-docx python-pptx olefile\n",
            "Installing collected packages: rfc3986, monotonic, filetype, commonmark, XlsxWriter, rich, python-magic, python-docx, pypandoc, pdf2image, olefile, h11, deprecated, backoff, python-pptx, msg-parser, httpcore, pdfminer.six, httpx, argilla, unstructured\n",
            "  Attempting uninstall: rich\n",
            "    Found existing installation: rich 13.4.2\n",
            "    Uninstalling rich-13.4.2:\n",
            "      Successfully uninstalled rich-13.4.2\n",
            "Successfully installed XlsxWriter-3.1.2 argilla-1.11.0 backoff-2.2.1 commonmark-0.9.1 deprecated-1.2.14 filetype-1.2.0 h11-0.14.0 httpcore-0.16.3 httpx-0.23.3 monotonic-1.6 msg-parser-1.2.0 olefile-0.46 pdf2image-1.16.3 pdfminer.six-20221105 pypandoc-1.11 python-docx-0.8.11 python-magic-0.4.27 python-pptx-0.6.21 rfc3986-1.5.0 rich-13.0.1 unstructured-0.7.8\n"
          ]
        }
      ]
    },
    {
      "cell_type": "code",
      "source": [
        "loader = UnstructuredPDFLoader('./Sunrise_Employee_Handbook_Jan2015.pdf')"
      ],
      "metadata": {
        "id": "cbLf5CkgKFDb"
      },
      "execution_count": null,
      "outputs": []
    },
    {
      "cell_type": "code",
      "source": [
        "data = loader.load()"
      ],
      "metadata": {
        "id": "_4kr5KCpKOOV",
        "colab": {
          "base_uri": "https://localhost:8080/"
        },
        "outputId": "a7290600-179b-45f2-8f3f-bc4d5ab8be46"
      },
      "execution_count": null,
      "outputs": [
        {
          "output_type": "stream",
          "name": "stderr",
          "text": [
            "[nltk_data] Downloading package punkt to /root/nltk_data...\n",
            "[nltk_data]   Unzipping tokenizers/punkt.zip.\n",
            "[nltk_data] Downloading package averaged_perceptron_tagger to\n",
            "[nltk_data]     /root/nltk_data...\n",
            "[nltk_data]   Unzipping taggers/averaged_perceptron_tagger.zip.\n"
          ]
        }
      ]
    },
    {
      "cell_type": "code",
      "source": [
        "transcript = data"
      ],
      "metadata": {
        "id": "8fyDRB1SKOGO",
        "colab": {
          "base_uri": "https://localhost:8080/",
          "height": 165
        },
        "outputId": "dbb68af5-f401-4b27-e63c-a4aef8920ec3"
      },
      "execution_count": null,
      "outputs": [
        {
          "output_type": "error",
          "ename": "NameError",
          "evalue": "ignored",
          "traceback": [
            "\u001b[0;31m---------------------------------------------------------------------------\u001b[0m",
            "\u001b[0;31mNameError\u001b[0m                                 Traceback (most recent call last)",
            "\u001b[0;32m<ipython-input-12-7455b6a0f029>\u001b[0m in \u001b[0;36m<cell line: 1>\u001b[0;34m()\u001b[0m\n\u001b[0;32m----> 1\u001b[0;31m \u001b[0mtranscript\u001b[0m \u001b[0;34m=\u001b[0m \u001b[0mdata\u001b[0m\u001b[0;34m\u001b[0m\u001b[0;34m\u001b[0m\u001b[0m\n\u001b[0m",
            "\u001b[0;31mNameError\u001b[0m: name 'data' is not defined"
          ]
        }
      ]
    },
    {
      "cell_type": "code",
      "source": [],
      "metadata": {
        "id": "Xw73gV70KN88"
      },
      "execution_count": null,
      "outputs": []
    },
    {
      "cell_type": "code",
      "source": [
        "# I put three prepared transcripts\n",
        "transcript_paths = [\n",
        "    './Sunrise_Employee_Handbook_Jan2015.txt',\n",
        "]\n",
        "\n",
        "with open('./Sunrise_Employee_Handbook_Jan2015.txt') as file:\n",
        "    transcript = file.read()"
      ],
      "metadata": {
        "id": "eA_F65qD_8RY"
      },
      "execution_count": null,
      "outputs": []
    },
    {
      "cell_type": "code",
      "source": [
        "print(transcript[:100])"
      ],
      "metadata": {
        "id": "_z96PUnj_8O-"
      },
      "execution_count": null,
      "outputs": []
    },
    {
      "cell_type": "code",
      "source": [
        "# Load up your text splitter\n",
        "text_splitter = RecursiveCharacterTextSplitter(separators=[\"\\n\\n\", \"\\n\", \" \"], chunk_size=10000, chunk_overlap=2200)\n",
        "\n",
        "# I'm only doing the first 23250 characters. This to save on costs. When you're doing your exercise you can remove this to let all the data through\n",
        "transcript_subsection_characters = 23250\n"
      ],
      "metadata": {
        "id": "517Y3dmJ_8Mz"
      },
      "execution_count": null,
      "outputs": []
    },
    {
      "cell_type": "code",
      "source": [
        "pip install tiktoken"
      ],
      "metadata": {
        "id": "bfDOp33QNPY9",
        "colab": {
          "base_uri": "https://localhost:8080/"
        },
        "outputId": "a5eb9c93-c44c-45bd-b31e-9742c1c53101"
      },
      "execution_count": null,
      "outputs": [
        {
          "output_type": "stream",
          "name": "stdout",
          "text": [
            "Looking in indexes: https://pypi.org/simple, https://us-python.pkg.dev/colab-wheels/public/simple/\n",
            "Collecting tiktoken\n",
            "  Downloading tiktoken-0.4.0-cp310-cp310-manylinux_2_17_x86_64.manylinux2014_x86_64.whl (1.7 MB)\n",
            "\u001b[2K     \u001b[90m━━━━━━━━━━━━━━━━━━━━━━━━━━━━━━━━━━━━━━━━\u001b[0m \u001b[32m1.7/1.7 MB\u001b[0m \u001b[31m28.4 MB/s\u001b[0m eta \u001b[36m0:00:00\u001b[0m\n",
            "\u001b[?25hRequirement already satisfied: regex>=2022.1.18 in /usr/local/lib/python3.10/dist-packages (from tiktoken) (2022.10.31)\n",
            "Requirement already satisfied: requests>=2.26.0 in /usr/local/lib/python3.10/dist-packages (from tiktoken) (2.27.1)\n",
            "Requirement already satisfied: urllib3<1.27,>=1.21.1 in /usr/local/lib/python3.10/dist-packages (from requests>=2.26.0->tiktoken) (1.26.16)\n",
            "Requirement already satisfied: certifi>=2017.4.17 in /usr/local/lib/python3.10/dist-packages (from requests>=2.26.0->tiktoken) (2023.5.7)\n",
            "Requirement already satisfied: charset-normalizer~=2.0.0 in /usr/local/lib/python3.10/dist-packages (from requests>=2.26.0->tiktoken) (2.0.12)\n",
            "Requirement already satisfied: idna<4,>=2.5 in /usr/local/lib/python3.10/dist-packages (from requests>=2.26.0->tiktoken) (3.4)\n",
            "Installing collected packages: tiktoken\n",
            "Successfully installed tiktoken-0.4.0\n"
          ]
        }
      ]
    },
    {
      "cell_type": "code",
      "source": [
        "docs = text_splitter.create_documents([transcript[:transcript_subsection_characters]])\n",
        "print (f\"You have {len(docs)} docs. First doc is {llm3.get_num_tokens(docs[0].page_content)} tokens\")"
      ],
      "metadata": {
        "colab": {
          "base_uri": "https://localhost:8080/"
        },
        "id": "v6LW5zouLaMq",
        "outputId": "490e5bdf-180c-4b24-ec4a-a4b7c8cc900d"
      },
      "execution_count": null,
      "outputs": [
        {
          "output_type": "stream",
          "name": "stdout",
          "text": [
            "You have 3 docs. First doc is 2012 tokens\n"
          ]
        }
      ]
    },
    {
      "cell_type": "code",
      "source": [
        "template=\"\"\"\n",
        "You are a helpful assistant that helps retrieve important topics from the company handbook which will help educate a new employee learn the rules and regulations of a company.\n",
        "- Your goal is to extract the important topic names and brief 1-sentence description of the topic\n",
        "- Topics include:\n",
        "  - Company History and Culture\n",
        "  - Employee Benefits\n",
        "  - Work Environment and Etiquette\n",
        "  - Diversity and Inclusion\n",
        "  - Code of Conduct\n",
        "  - Compensation and Performance Reviews\n",
        "  - Vacation and Sick Leave Policies\n",
        "  - Privacy and Data Security\n",
        "  - Health and Safety Regulations\n",
        "  - Professional Development Opportunities\n",
        "  - Conflict Resolution\n",
        "  - Work-from-Home Guidelines\n",
        "and any others that you may find important.\n",
        "- Provide a brief description of the topics after the topic name. Example: 'Topic: Brief Description'\n",
        "- Use the same words and terminology that is said in the handbook\n",
        "- Do not respond with anything outside of the handbook. If you don't see any topics, say, 'No Topics'\n",
        "- Do not respond with numbers, just bullet points\n",
        "- Only pull topics from the handbook.\n",
        "- A topic should be substantial, more than just a one-off comment\n",
        "\n",
        "\n",
        "\"\"\"\n",
        "system_message_prompt_map = SystemMessagePromptTemplate.from_template(template)\n",
        "\n",
        "human_template=\"Transcript: {text}\" # Simply just pass the text as a human message\n",
        "human_message_prompt_map = HumanMessagePromptTemplate.from_template(human_template)\n",
        "\n",
        "chat_prompt_combine = ChatPromptTemplate.from_messages(messages=[system_message_prompt_map, human_message_prompt_map])\n"
      ],
      "metadata": {
        "id": "0Nx3yPVL_8Kb"
      },
      "execution_count": null,
      "outputs": []
    },
    {
      "cell_type": "code",
      "source": [
        "template=\"\"\"\n",
        "You are a helpful assistant that helps retrieve important topics from the company handbook which will help educate a new employee leaarn the rules and regulations of a company.\n",
        "- You will be given a series of bullet topics of topics vound\n",
        "- Your goal is to exract the topic names and brief 1-sentence description of the topic\n",
        "- Deduplicate any bullet points you see\n",
        "- Only pull topics from the transcript. Do not use the examples\n",
        "\n",
        "You are a helpful assistant that helps retrieve topics talked about in a employee handbook transcript\n",
        "\n",
        "\"\"\"\n",
        "system_message_prompt_map = SystemMessagePromptTemplate.from_template(template)\n",
        "\n",
        "human_template=\"Transcript: {text}\" # Simply just pass the text as a human message\n",
        "human_message_prompt_map = HumanMessagePromptTemplate.from_template(human_template)\n",
        "\n",
        "chat_prompt_map = ChatPromptTemplate.from_messages(messages=[system_message_prompt_map, human_message_prompt_map])\n"
      ],
      "metadata": {
        "id": "jHMpsWUn_8HV"
      },
      "execution_count": null,
      "outputs": []
    },
    {
      "cell_type": "code",
      "source": [
        "chain = load_summarize_chain(llm3,\n",
        "                             chain_type=\"map_reduce\",\n",
        "                             map_prompt=chat_prompt_map,\n",
        "                             combine_prompt=chat_prompt_combine,\n",
        "#                              verbose=True\n",
        "                            )"
      ],
      "metadata": {
        "id": "FHFOJRS7_8FT"
      },
      "execution_count": null,
      "outputs": []
    },
    {
      "cell_type": "code",
      "source": [
        "topics_found = chain.run({\"input_documents\": docs})"
      ],
      "metadata": {
        "id": "KfQTKjUj_8DN"
      },
      "execution_count": null,
      "outputs": []
    },
    {
      "cell_type": "code",
      "source": [
        "print (topics_found)"
      ],
      "metadata": {
        "colab": {
          "base_uri": "https://localhost:8080/"
        },
        "id": "_1aZEeYW_8Ao",
        "outputId": "a8bb454c-784f-473b-93ce-4247f92f3424"
      },
      "execution_count": null,
      "outputs": [
        {
          "output_type": "stream",
          "name": "stdout",
          "text": [
            "Topics found in the transcript:\n",
            "1. Dress code and uniform policy - Guidelines for appropriate attire and uniforms for employees.\n",
            "2. Working hours and overtime - Information about regular working hours and policies regarding overtime.\n",
            "3. Meal periods and breaks - Guidelines for meal periods and breaks during work hours.\n",
            "4. Schedules and schedule changes - Information about employee schedules and procedures for schedule changes.\n",
            "5. On-call time and compensation - Information about on-call responsibilities and compensation for on-call employees.\n",
            "6. Paycheck schedule - Information about the schedule for issuing paychecks to employees.\n"
          ]
        }
      ]
    },
    {
      "cell_type": "code",
      "source": [
        "schema = {\n",
        "    \"properties\": {\n",
        "        # The title of the topic\n",
        "        \"topic_name\": {\n",
        "            \"type\": \"string\",\n",
        "            \"description\" : \"The title of the topic listed\"\n",
        "        },\n",
        "        # The description\n",
        "        \"description\": {\n",
        "            \"type\": \"string\",\n",
        "            \"description\" : \"The description of the topic listed\"\n",
        "        },\n",
        "        \"tag\": {\n",
        "            \"type\": \"string\",\n",
        "            \"description\" : \"The type of content being described\",\n",
        "            \"enum\" : ['Schedules', 'Timings', 'Wellness']\n",
        "        }\n",
        "    },\n",
        "    \"required\": [\"topic\", \"description\"],\n",
        "}"
      ],
      "metadata": {
        "id": "UK5UhAI2_78q"
      },
      "execution_count": null,
      "outputs": []
    },
    {
      "cell_type": "code",
      "source": [
        "# Using gpt3.5 here because this is an easy extraction task and no need to jump to gpt4\n",
        "chain = create_extraction_chain(schema, llm3)"
      ],
      "metadata": {
        "id": "zG3-JNB3_72A"
      },
      "execution_count": null,
      "outputs": []
    },
    {
      "cell_type": "code",
      "source": [
        "\n",
        "topics_structured = chain.run(topics_found)"
      ],
      "metadata": {
        "id": "K5yE8jiy_70E"
      },
      "execution_count": null,
      "outputs": []
    },
    {
      "cell_type": "code",
      "source": [
        "topics_structured"
      ],
      "metadata": {
        "colab": {
          "base_uri": "https://localhost:8080/"
        },
        "id": "QXwp2oJ-_7xa",
        "outputId": "d56d383c-8bb3-46cb-c942-76ac296915af"
      },
      "execution_count": null,
      "outputs": [
        {
          "output_type": "execute_result",
          "data": {
            "text/plain": [
              "[{'topic_name': 'Dress code and uniform policy',\n",
              "  'description': 'Guidelines for appropriate attire and uniforms for employees.',\n",
              "  'tag': 'Schedules'},\n",
              " {'topic_name': 'Working hours and overtime',\n",
              "  'description': 'Information about regular working hours and policies regarding overtime.',\n",
              "  'tag': 'Timings'},\n",
              " {'topic_name': 'Meal periods and breaks',\n",
              "  'description': 'Guidelines for meal periods and breaks during work hours.',\n",
              "  'tag': 'Wellness'},\n",
              " {'topic_name': 'Schedules and schedule changes',\n",
              "  'description': 'Information about employee schedules and procedures for schedule changes.',\n",
              "  'tag': 'Schedules'},\n",
              " {'topic_name': 'On-call time and compensation',\n",
              "  'description': 'Information about on-call responsibilities and compensation for on-call employees.',\n",
              "  'tag': 'Timings'},\n",
              " {'topic_name': 'Paycheck schedule',\n",
              "  'description': 'Information about the schedule for issuing paychecks to employees.',\n",
              "  'tag': 'Schedules'}]"
            ]
          },
          "metadata": {},
          "execution_count": 25
        }
      ]
    },
    {
      "cell_type": "code",
      "source": [
        "text_splitter = RecursiveCharacterTextSplitter(chunk_size=4000, chunk_overlap=800)\n",
        "\n",
        "docs = text_splitter.create_documents([transcript[:transcript_subsection_characters]])\n",
        "\n",
        "print (f\"You have {len(docs)} docs. First doc is {llm3.get_num_tokens(docs[0].page_content)} tokens\")"
      ],
      "metadata": {
        "colab": {
          "base_uri": "https://localhost:8080/"
        },
        "id": "BQt5tAPn_7u5",
        "outputId": "7033158d-e0d2-4226-b311-67aecfe06232"
      },
      "execution_count": null,
      "outputs": [
        {
          "output_type": "stream",
          "name": "stdout",
          "text": [
            "You have 7 docs. First doc is 782 tokens\n"
          ]
        }
      ]
    },
    {
      "cell_type": "code",
      "source": [
        "embeddings = OpenAIEmbeddings(openai_api_key=OPENAI_API_KEY)\n"
      ],
      "metadata": {
        "id": "Rx4y0dNx_7sp"
      },
      "execution_count": null,
      "outputs": []
    },
    {
      "cell_type": "code",
      "source": [
        "!pip3 install pinecone-client"
      ],
      "metadata": {
        "id": "gP_Dc1fDn1LA",
        "outputId": "ae2da4c6-1a55-4be4-e2d2-645fd6df41b2",
        "colab": {
          "base_uri": "https://localhost:8080/"
        }
      },
      "execution_count": null,
      "outputs": [
        {
          "output_type": "stream",
          "name": "stdout",
          "text": [
            "Looking in indexes: https://pypi.org/simple, https://us-python.pkg.dev/colab-wheels/public/simple/\n",
            "Collecting pinecone-client\n",
            "  Downloading pinecone_client-2.2.2-py3-none-any.whl (179 kB)\n",
            "\u001b[2K     \u001b[90m━━━━━━━━━━━━━━━━━━━━━━━━━━━━━━━━━━━━━━━\u001b[0m \u001b[32m179.1/179.1 kB\u001b[0m \u001b[31m7.5 MB/s\u001b[0m eta \u001b[36m0:00:00\u001b[0m\n",
            "\u001b[?25hRequirement already satisfied: requests>=2.19.0 in /usr/local/lib/python3.10/dist-packages (from pinecone-client) (2.27.1)\n",
            "Requirement already satisfied: pyyaml>=5.4 in /usr/local/lib/python3.10/dist-packages (from pinecone-client) (6.0)\n",
            "Collecting loguru>=0.5.0 (from pinecone-client)\n",
            "  Downloading loguru-0.7.0-py3-none-any.whl (59 kB)\n",
            "\u001b[2K     \u001b[90m━━━━━━━━━━━━━━━━━━━━━━━━━━━━━━━━━━━━━━━━\u001b[0m \u001b[32m60.0/60.0 kB\u001b[0m \u001b[31m5.8 MB/s\u001b[0m eta \u001b[36m0:00:00\u001b[0m\n",
            "\u001b[?25hRequirement already satisfied: typing-extensions>=3.7.4 in /usr/local/lib/python3.10/dist-packages (from pinecone-client) (4.6.3)\n",
            "Collecting dnspython>=2.0.0 (from pinecone-client)\n",
            "  Downloading dnspython-2.3.0-py3-none-any.whl (283 kB)\n",
            "\u001b[2K     \u001b[90m━━━━━━━━━━━━━━━━━━━━━━━━━━━━━━━━━━━━━━\u001b[0m \u001b[32m283.7/283.7 kB\u001b[0m \u001b[31m21.2 MB/s\u001b[0m eta \u001b[36m0:00:00\u001b[0m\n",
            "\u001b[?25hRequirement already satisfied: python-dateutil>=2.5.3 in /usr/local/lib/python3.10/dist-packages (from pinecone-client) (2.8.2)\n",
            "Requirement already satisfied: urllib3>=1.21.1 in /usr/local/lib/python3.10/dist-packages (from pinecone-client) (1.26.16)\n",
            "Requirement already satisfied: tqdm>=4.64.1 in /usr/local/lib/python3.10/dist-packages (from pinecone-client) (4.65.0)\n",
            "Requirement already satisfied: numpy>=1.22.0 in /usr/local/lib/python3.10/dist-packages (from pinecone-client) (1.22.4)\n",
            "Requirement already satisfied: six>=1.5 in /usr/local/lib/python3.10/dist-packages (from python-dateutil>=2.5.3->pinecone-client) (1.16.0)\n",
            "Requirement already satisfied: certifi>=2017.4.17 in /usr/local/lib/python3.10/dist-packages (from requests>=2.19.0->pinecone-client) (2023.5.7)\n",
            "Requirement already satisfied: charset-normalizer~=2.0.0 in /usr/local/lib/python3.10/dist-packages (from requests>=2.19.0->pinecone-client) (2.0.12)\n",
            "Requirement already satisfied: idna<4,>=2.5 in /usr/local/lib/python3.10/dist-packages (from requests>=2.19.0->pinecone-client) (3.4)\n",
            "Installing collected packages: loguru, dnspython, pinecone-client\n",
            "Successfully installed dnspython-2.3.0 loguru-0.7.0 pinecone-client-2.2.2\n"
          ]
        }
      ]
    },
    {
      "cell_type": "code",
      "source": [
        "PINECONE_API_KEY = ''\n",
        "PINECONE_API_ENV = ''"
      ],
      "metadata": {
        "id": "WBg1Mz6mY_we"
      },
      "execution_count": null,
      "outputs": []
    },
    {
      "cell_type": "code",
      "source": [
        "# initialize pinecone\n",
        "pinecone.init(\n",
        "    api_key=PINECONE_API_KEY,  # find at app.pinecone.io\n",
        "    environment=PINECONE_API_ENV  # next to api key in console\n",
        ")"
      ],
      "metadata": {
        "id": "GwAd2cBC_7qX"
      },
      "execution_count": null,
      "outputs": []
    },
    {
      "cell_type": "code",
      "source": [
        "index_name = \"\"\n",
        "\n",
        "docsearch = Pinecone.from_documents(docs, embeddings, index_name=index_name)"
      ],
      "metadata": {
        "id": "SkkRz0rb_7n-"
      },
      "execution_count": null,
      "outputs": []
    },
    {
      "cell_type": "code",
      "source": [
        "# # If you want to delete your vectors in your index to start over, run the code below!\n",
        "# index = pinecone.Index(index_name)\n",
        "# index.delete(delete_all='true')"
      ],
      "metadata": {
        "id": "OcYpSth6_7lf"
      },
      "execution_count": null,
      "outputs": []
    },
    {
      "cell_type": "code",
      "source": [
        "# The system instructions. Notice the 'context' placeholder down below. This is where our relevant docs will go.\n",
        "# The 'question' in the human message below won't be a question per se, but rather a topic we want to get relevant information on\n",
        "system_template = \"\"\"\n",
        "You will be given text from a employee handbook contains many topics.\n",
        "You goal is to write a series of questions along with the answers to those questions.\n",
        "The answers should give the user answers a thorough understanding of a topic.\n",
        "Do not respond with information that isn't relevant to the topic that the user gives you\n",
        "----------------\n",
        "{context}\"\"\"\n",
        "\n",
        "messages = [\n",
        "    SystemMessagePromptTemplate.from_template(system_template),\n",
        "    HumanMessagePromptTemplate.from_template(\"{question}\"),\n",
        "]\n",
        "\n",
        "# This will pull the two messages together and get them ready to be sent to the LLM through the retriever\n",
        "CHAT_PROMPT = ChatPromptTemplate.from_messages(messages)"
      ],
      "metadata": {
        "id": "0sq5hBl-_7iH"
      },
      "execution_count": null,
      "outputs": []
    },
    {
      "cell_type": "code",
      "source": [
        "# I'm using gpt4 for the increased reasoning power.\n",
        "# I'm also setting k=4 so the number of relevant docs we get back is 4. This parameter should be tuned to your use case\n",
        "qa = RetrievalQA.from_chain_type(llm=llm3,\n",
        "                                 chain_type=\"stuff\",\n",
        "                                 retriever=docsearch.as_retriever(k=3),\n",
        "                                 chain_type_kwargs = {\n",
        "#                                      'verbose': True,\n",
        "                                     'prompt': CHAT_PROMPT\n",
        "                                 })"
      ],
      "metadata": {
        "id": "2IUP2AFNA0rg"
      },
      "execution_count": null,
      "outputs": []
    },
    {
      "cell_type": "code",
      "source": [
        "# Only doing the first 3 for conciseness\n",
        "for topic in topics_structured[:5]:\n",
        "    query = f\"\"\"\n",
        "        {topic['topic_name']}: {topic['description']}\n",
        "    \"\"\"\n",
        "\n",
        "    expanded_topic = qa.run(query)\n",
        "\n",
        "    print(f\"{topic['topic_name']}: {topic['description']}\")\n",
        "    print(expanded_topic)\n",
        "    print (\"\\n\\n\")"
      ],
      "metadata": {
        "colab": {
          "base_uri": "https://localhost:8080/"
        },
        "id": "-mciCy13A0o2",
        "outputId": "f2a3d001-3299-44ab-bad7-7f1b805cb500"
      },
      "execution_count": null,
      "outputs": [
        {
          "output_type": "stream",
          "name": "stdout",
          "text": [
            "Dress code and uniform policy: Guidelines for appropriate attire and uniforms for employees.\n",
            "Q: What is the dress code policy for employees?\n",
            "A: Employees are expected to dress in a manner consistent with good hygiene, safety, and good taste. The mode of dress varies depending on the type of work performed. For example, office personnel are required to wear clothes appropriate for a business office environment. Employees must dress within the bounds of good taste and avoid wearing shorts, logo/souvenir type tee-shirts, tank tops, distressed or torn jeans, and suggestive/provocative clothing.\n",
            "\n",
            "Q: Are tattoos allowed to be visible while on duty?\n",
            "A: No, if an employee works with the public, all tattoos must be covered or not visible.\n",
            "\n",
            "Q: Can employees have visible body piercings while on duty?\n",
            "A: Other than professionally worn ear piercings, no visible body piercings are allowed while on duty.\n",
            "\n",
            "Q: What should employees do if they are unsure about the appropriateness of a particular item or outfit?\n",
            "A: Employees should discuss the matter with a supervisor before wearing it to get clarification on whether it is appropriate.\n",
            "\n",
            "Q: What is the policy for employees who are inappropriately dressed?\n",
            "A: Employees who are inappropriately dressed will be sent home and directed to return to work in proper attire. They will not be compensated for the time away from work.\n",
            "\n",
            "Q: Are employees required to wear uniforms?\n",
            "A: Employees for whom a uniform has been provided must wear the appropriate uniform.\n",
            "\n",
            "Q: Can employees make alterations to their uniforms?\n",
            "A: Alterations to uniforms are allowed only if prior approval has been obtained from a manager and the alteration is for the purpose of a better fit.\n",
            "\n",
            "Q: How should uniforms be maintained?\n",
            "A: Uniforms must be neat, clean, and pressed at all times. Missing buttons should be replaced, and tears or holes should be sewn before wearing the uniform.\n",
            "\n",
            "Q: Are there any additional requirements for employees who work with the public?\n",
            "A: Employees whose jobs require them to come in contact with customers, clients, or the public are expected to wear apparel consistent with that worn by persons dealing with the public in the community in similar capacities.\n",
            "\n",
            "Q: Where can employees find more specific dress standards for their departments?\n",
            "A: Employees are requested to ask their department heads for more specific dress standards for their departments.\n",
            "\n",
            "\n",
            "\n",
            "Working hours and overtime: Information about regular working hours and policies regarding overtime.\n",
            "Q: What are the standard working hours for employees?\n",
            "A: The standard workweek begins at 12:01 a.m. on Saturday and ends at 12 midnight the following Friday.\n",
            "\n",
            "Q: Is there a guarantee of a 40-hour workweek?\n",
            "A: While we usually work a 40-hour week, the company makes no guarantee of a 40-hour week. \n",
            "\n",
            "Q: Can employees be required to work beyond their regularly scheduled hours?\n",
            "A: Yes, working beyond regularly scheduled hours might be required as a condition of employment. The company will attempt to give advance notice of such circumstances, but this may not always be possible.\n",
            "\n",
            "Q: Can non-exempt employees work overtime without prior approval?\n",
            "A: No, non-exempt employees may not work overtime unless prior approval of their supervisor has been obtained.\n",
            "\n",
            "Q: What happens if non-exempt employees work unauthorized overtime?\n",
            "A: Non-exempt employees who work unauthorized overtime may be subject to disciplinary action up to and including termination.\n",
            "\n",
            "Q: Is working \"off the clock\" permitted for non-exempt employees?\n",
            "A: No, working \"off the clock\" by non-exempt employees is never permitted.\n",
            "\n",
            "Q: What happens if an employee refuses to work beyond their regularly scheduled hours when requested?\n",
            "A: Refusal to work beyond the employee's regularly scheduled hours when requested may result in disciplinary action up to and including termination.\n",
            "\n",
            "Q: How is overtime paid to non-exempt employees?\n",
            "A: Overtime will be paid to non-exempt employees according to state and federal laws.\n",
            "\n",
            "Q: Can you provide more information about meal periods for non-exempt employees?\n",
            "A: Non-exempt employees working more than five hours a day are expected to take meal breaks during which they are relieved of all duties. The meal period must begin within four hours and fifty-nine minutes after the employee begins work. If a non-exempt employee works in excess of ten hours in any one day, a second meal period lasting for at least 30 minutes is expected.\n",
            "\n",
            "Q: Are meal breaks compensated?\n",
            "A: No, meal breaks are not compensated.\n",
            "\n",
            "Q: Are non-exempt employees responsible for recording their meal breaks?\n",
            "A: Yes, all non-exempt employees are responsible for recording when they leave for meal breaks and when they return from meal breaks.\n",
            "\n",
            "Q: What should an employee do if they are impeded or discouraged from taking their meal break?\n",
            "A: If an employee believes they are impeded or discouraged from taking their meal break, they must notify the Human Resources Department immediately.\n",
            "\n",
            "Q: Are rest periods provided for non-exempt employees?\n",
            "A: Yes, non-exempt employees who work more than three and one-half hours a day are expected to take rest periods.\n",
            "\n",
            "Q: How many rest periods are employees entitled to based on their workday length?\n",
            "A: If the workday is three and one-half to six hours long, employees are entitled to a ten-minute rest period. If the workday is more than six hours and up to ten hours long, employees are entitled to two ten-minute rest periods. If the workday is more than ten and up to 14 hours long, employees are entitled to three ten-minute rest periods. In the unlikely event the workday exceeds 14 hours, employees are entitled to four ten-minute rest periods.\n",
            "\n",
            "Q: Is recording the time in and out required for rest periods?\n",
            "A: No, recording the time in and out is not required when taking rest periods.\n",
            "\n",
            "Q: Can rest periods be used to compensate for late arrivals or early departures?\n",
            "A: No, rest periods may not be tacked onto meal periods or used to compensate for late arrivals or early departures.\n",
            "\n",
            "Q: What should an employee do if they are impeded or discouraged from taking their rest period?\n",
            "A: If an employee believes they are impeded or discouraged from taking their rest period, they must notify the Human Resources Department immediately.\n",
            "\n",
            "Q: When does the workweek begin for most employees?\n",
            "A: For most employees, the workweek begins on Saturday for purposes of scheduling and pay.\n",
            "\n",
            "Q: How are full-time employees defined?\n",
            "A: Full-time employees are defined as those employees who are hired to work on a regular basis for a minimum of 30 or more hours per week.\n",
            "\n",
            "Q: Are part-time employees eligible for employer-sponsored benefits?\n",
            "A: Part-time employees are eligible for employer-sponsored benefits only as provided in the Employee Handbook.\n",
            "\n",
            "Q: What are on-call employees?\n",
            "A: On-call employees are those employees who are not scheduled regularly and work only as needed and as called in.\n",
            "\n",
            "Q:\n",
            "\n",
            "\n",
            "\n",
            "Meal periods and breaks: Guidelines for meal periods and breaks during work hours.\n",
            "Q: Are all employees required to take meal breaks during their work hours?\n",
            "A: Yes, all non-exempt employees working more than five hours a day are expected to take meal breaks.\n",
            "\n",
            "Q: Can an employee waive their meal period if their shift is less than six hours?\n",
            "A: Yes, if the employee's entire shift does not exceed six hours, they can voluntarily waive the meal period in writing.\n",
            "\n",
            "Q: How long should a meal break be?\n",
            "A: A meal break should be no less than 30 minutes.\n",
            "\n",
            "Q: When should a meal period begin?\n",
            "A: The meal period must begin within four hours and fifty-nine minutes after the employee begins work.\n",
            "\n",
            "Q: Is a second meal period required for employees working more than ten hours in a day?\n",
            "A: Yes, if a non-exempt employee works in excess of ten hours in any one day, they are expected to take a second meal period lasting for at least 30 minutes.\n",
            "\n",
            "Q: Are meal breaks compensated?\n",
            "A: No, meal breaks are unpaid.\n",
            "\n",
            "Q: Who is responsible for recording when employees leave for and return from meal breaks?\n",
            "A: All non-exempt employees are responsible for recording their meal breaks.\n",
            "\n",
            "Q: What should an employee do if they are impeded or discouraged from taking their meal break?\n",
            "A: They must notify the Human Resources Department immediately.\n",
            "\n",
            "Q: Are rest periods required for employees?\n",
            "A: Yes, non-exempt employees who work more than three and one-half hours a day are expected to take rest periods.\n",
            "\n",
            "Q: How many rest periods are employees entitled to based on their workday length?\n",
            "A: It depends on the length of the workday. Employees are entitled to one ten minute rest period for a workday of three and one-half to six hours, two rest periods for a workday of more than six and up to ten hours, three rest periods for a workday of more than ten and up to 14 hours, and four rest periods for a workday exceeding 14 hours.\n",
            "\n",
            "Q: Is recording the time in and out required for rest periods?\n",
            "A: No, recording the time in and out is not required for rest periods.\n",
            "\n",
            "Q: When should rest periods be provided during the workday?\n",
            "A: As far as practicable, each rest period should be provided in the middle of each four-hour work period.\n",
            "\n",
            "Q: Can rest periods be used to compensate for late arrivals or early departures?\n",
            "A: No, rest periods may not be tacked onto meal periods or used to compensate for late arrivals or early departures.\n",
            "\n",
            "Q: What should an employee do if they are impeded or discouraged from taking their rest period?\n",
            "A: They must notify the Human Resources Department immediately.\n",
            "\n",
            "Q: When does the workweek begin for most employees?\n",
            "A: The workweek begins on Saturday for most employees.\n",
            "\n",
            "Q: How are work schedules communicated to employees?\n",
            "A: Work schedules are usually posted on department bulletin boards prior to the start of the workweek.\n",
            "\n",
            "Q: Can an employee request a change in their posted schedule?\n",
            "A: Yes, an employee can request a change in their posted schedule by consulting their manager.\n",
            "\n",
            "Q: Who is authorized to make changes to a posted schedule?\n",
            "A: Only the department manager is authorized to make changes to a posted schedule.\n",
            "\n",
            "Q: Can management schedule work hours without restrictions?\n",
            "A: Yes, management reserves the sole right to schedule work hours without restrictions.\n",
            "\n",
            "Q: Is working beyond the regularly scheduled hours required?\n",
            "A: Yes, working beyond the regularly scheduled hours might be required as a condition of employment.\n",
            "\n",
            "Q: Can non-exempt employees work overtime without prior approval?\n",
            "A: No, non-exempt employees may not work overtime unless prior approval of their supervisor has been obtained.\n",
            "\n",
            "Q: What happens if a non-exempt employee works unauthorized overtime?\n",
            "A: They may be subject to disciplinary action up to and including termination.\n",
            "\n",
            "Q: Is working \"off the clock\" permitted for non-exempt employees?\n",
            "A: No, working \"off the clock\" is never permitted for non-exempt employees.\n",
            "\n",
            "Q: What should an employee do if they believe they are impeded or discouraged from taking their meal break?\n",
            "A: They must notify the Human Resources Department immediately.\n",
            "\n",
            "\n",
            "\n",
            "Schedules and schedule changes: Information about employee schedules and procedures for schedule changes.\n",
            "Q: When does the workweek begin for most employees?\n",
            "A: The workweek begins on Saturday for most employees.\n",
            "\n",
            "Q: How will employees be informed of their schedule?\n",
            "A: Employees will be informed of their schedule by their manager or through the department bulletin board where work schedules will be posted.\n",
            "\n",
            "Q: Can employees request a specific schedule?\n",
            "A: Yes, employees can request a specific schedule, and their manager will try to honor these requests.\n",
            "\n",
            "Q: Can the schedule change from week to week?\n",
            "A: Yes, the schedule may change from week to week, so it is important for employees to verify their schedule each week.\n",
            "\n",
            "Q: Who is authorized to make changes to a posted schedule?\n",
            "A: Only the department manager is authorized to make changes to a posted schedule.\n",
            "\n",
            "Q: What is the employee's responsibility regarding their schedule?\n",
            "A: It is the employee's responsibility to know and follow their schedule.\n",
            "\n",
            "Q: Can employees trade on-call responsibilities with other employees?\n",
            "A: Yes, employees are able to trade on-call responsibilities with other employees.\n",
            "\n",
            "Q: What factors are considered in determining whether on-call time is compensable?\n",
            "A: Factors such as the degree of freedom to engage in personal activities, geographical limitations, on-premises living requirements, frequency of calls, fixed time limits for response, ability to trade on-call responsibilities, and engagement in personal activities during on-call time are considered.\n",
            "\n",
            "Q: Is all time spent working or responding to a call compensable?\n",
            "A: Yes, all time spent working or responding to a call is compensable.\n",
            "\n",
            "Q: Is travel time to and from the worksite compensable?\n",
            "A: Yes, travel time to and from the worksite is compensable for non-exempt employees.\n",
            "\n",
            "Q: How often are employees paid?\n",
            "A: Employees are paid bi-weekly (every other week).\n",
            "\n",
            "Q: What happens if a payday falls on a holiday or weekend?\n",
            "A: If a payday falls on a holiday or weekend, employees will still be paid.\n",
            "\n",
            "\n",
            "\n",
            "On-call time and compensation: Information about on-call responsibilities and compensation for on-call employees.\n",
            "Q: What is on-call time?\n",
            "A: On-call time refers to the period when a non-exempt employee is required to be available in case they are needed to work.\n",
            "\n",
            "Q: When is on-call time considered compensable?\n",
            "A: On-call time is considered compensable if the employee is required to remain on the employer's premises or nearby, and cannot effectively use the time for their own purposes.\n",
            "\n",
            "Q: When is on-call time not considered compensable?\n",
            "A: On-call time is not considered compensable if the employee is completely relieved from duty and has enough time to use for their own purposes. It is also not compensable if the employee is not required to remain on the employer's premises but only needs to leave contact information.\n",
            "\n",
            "Q: What factors are considered in determining whether on-call time is compensable?\n",
            "A: The following factors are considered: the degree to which the employee is free to engage in personal activities, any excessive geographical limitations, any on-premises living requirement, the number and frequency of calls, any fixed time limit for response, the ability to trade on-call responsibilities, and whether the employee engages in personal activities during on-call time.\n",
            "\n",
            "Q: How can employees determine if their on-call time is compensable?\n",
            "A: If the response time and geographical restrictions are less restrictive and employees are able to engage in activities they normally do while not on-call, it is likely that the time spent on-call is not compensable. Employees can also contact Human Resources for clarification.\n",
            "\n",
            "Q: Is all time spent working or responding to a call compensable?\n",
            "A: Yes, all time spent working or responding to a call is compensable for non-exempt employees.\n",
            "\n",
            "Q: Is travel time to and from the worksite compensable for on-call employees?\n",
            "A: Yes, travel time to and from the worksite is compensable for on-call employees. This includes time spent driving and any time spent at the worksite.\n",
            "\n",
            "Q: How often are employees paid?\n",
            "A: Employees are paid bi-weekly, which means they receive their pay every other week.\n",
            "\n",
            "Q: What happens if a payday falls on a holiday or weekend?\n",
            "A: If a payday falls on a holiday or weekend, employees will be paid on the day before the holiday or weekend.\n",
            "\n",
            "Q: What deductions are made from employee wages?\n",
            "A: Deductions required by law, such as federal income taxes and social security tax, will be deducted from employee wages. Other deductions, such as state required taxes and voluntary employee authorized benefit deductions, will also be subtracted from paychecks.\n",
            "\n",
            "Q: How are tips reported and taxed?\n",
            "A: Employees who receive cash tips of $20 or more in a calendar month are required to report the total amount of tips received. Cash tips must be reported on Form 4070 and given to department managers for processing. The amount of cash tips will be added to the employee's taxable wages, and the appropriate amount of social security, Medicare, and income tax will be withheld from the following paycheck.\n",
            "\n",
            "\n",
            "\n"
          ]
        }
      ]
    },
    {
      "cell_type": "code",
      "source": [
        "system_template = \"\"\"\n",
        "What is the first timestamp when the speakers started talking about a topic the user gives?\n",
        "Only respond with the timestamp, nothing else. Example: 0:18:24\n",
        "----------------\n",
        "{context}\"\"\"\n",
        "messages = [\n",
        "    SystemMessagePromptTemplate.from_template(system_template),\n",
        "    HumanMessagePromptTemplate.from_template(\"{question}\"),\n",
        "]\n",
        "CHAT_PROMPT = ChatPromptTemplate.from_messages(messages)"
      ],
      "metadata": {
        "id": "NViwLd9YA0mr"
      },
      "execution_count": null,
      "outputs": []
    },
    {
      "cell_type": "code",
      "source": [
        "# Holder for our topic timestamps\n",
        "topic_timestamps = []\n",
        "\n",
        "for topic in topics_structured:\n",
        "\n",
        "    query = f\"{topic['topic_name']} - {topic['description']}\"\n",
        "    timestamp = qa.run(query)\n",
        "\n",
        "    topic_timestamps.append(f\"{timestamp} - {topic['topic_name']}\")"
      ],
      "metadata": {
        "id": "oAoveapOA0j9"
      },
      "execution_count": null,
      "outputs": []
    },
    {
      "cell_type": "code",
      "source": [
        "print (\"\\n\".join(sorted(topic_timestamps)))"
      ],
      "metadata": {
        "id": "36mhjMe2A0hm"
      },
      "execution_count": null,
      "outputs": []
    },
    {
      "cell_type": "code",
      "source": [],
      "metadata": {
        "id": "xXnHbimPA0eY"
      },
      "execution_count": null,
      "outputs": []
    },
    {
      "cell_type": "code",
      "source": [],
      "metadata": {
        "id": "72lN9BKeA0bu"
      },
      "execution_count": null,
      "outputs": []
    },
    {
      "cell_type": "code",
      "source": [],
      "metadata": {
        "id": "vHNWww8oA0Wf"
      },
      "execution_count": null,
      "outputs": []
    },
    {
      "cell_type": "code",
      "source": [],
      "metadata": {
        "id": "OhVTJgs_A0Tu"
      },
      "execution_count": null,
      "outputs": []
    },
    {
      "cell_type": "code",
      "source": [],
      "metadata": {
        "id": "HlkcGVI8A0RB"
      },
      "execution_count": null,
      "outputs": []
    }
  ]
}